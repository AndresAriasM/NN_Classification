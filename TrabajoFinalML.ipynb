{
  "nbformat": 4,
  "nbformat_minor": 0,
  "metadata": {
    "colab": {
      "provenance": [],
      "authorship_tag": "ABX9TyPPwCXo4CBIJTj9v81jNJxm",
      "include_colab_link": true
    },
    "kernelspec": {
      "name": "python3",
      "display_name": "Python 3"
    },
    "language_info": {
      "name": "python"
    }
  },
  "cells": [
    {
      "cell_type": "markdown",
      "metadata": {
        "id": "view-in-github",
        "colab_type": "text"
      },
      "source": [
        "<a href=\"https://colab.research.google.com/github/AndresAriasM/NN_Classification/blob/main/TrabajoFinalML.ipynb\" target=\"_parent\"><img src=\"https://colab.research.google.com/assets/colab-badge.svg\" alt=\"Open In Colab\"/></a>"
      ]
    },
    {
      "cell_type": "markdown",
      "source": [
        "#Machine Learning\n",
        "##Andrés Arias Medina\n",
        "\n",
        "Modelo de clasificación con una red neuronal sencilla"
      ],
      "metadata": {
        "id": "CClPxownFuBF"
      }
    },
    {
      "cell_type": "code",
      "source": [
        "import pandas as pd\n",
        "import numpy as np\n",
        "import matplotlib.pyplot as plt"
      ],
      "metadata": {
        "id": "lekRnCIiFwsU"
      },
      "execution_count": null,
      "outputs": []
    },
    {
      "cell_type": "code",
      "source": [
        "data = pd.read_csv(\"Brecha_Calidad (1).csv\",encoding='latin1')"
      ],
      "metadata": {
        "id": "bH6ppGhWFyW_"
      },
      "execution_count": null,
      "outputs": []
    },
    {
      "cell_type": "markdown",
      "source": [
        "Acá recorte los datos por motivos practicos, es un dataset grande y al aplicar la función para balancear los datos lo que hare es volver el data set casi el doble de grande de lo que ya era... entonces hago esto por temas de tiempo en la ejecuciones."
      ],
      "metadata": {
        "id": "p_7NYUkpBymX"
      }
    },
    {
      "cell_type": "code",
      "source": [
        "#Dividir los datos con el criterio 70-30\n",
        "from sklearn.model_selection import train_test_split\n",
        "\n",
        "descarte, datos = train_test_split(data, test_size = 0.30)\n",
        "\n",
        "print(\"Datos descartados: \", len(descarte))\n",
        "print(\"Datos empleados: \", len(datos))"
      ],
      "metadata": {
        "colab": {
          "base_uri": "https://localhost:8080/"
        },
        "id": "PAGMBPk6-9p4",
        "outputId": "cf3cacee-d706-4c41-b742-a0d600e21836"
      },
      "execution_count": null,
      "outputs": [
        {
          "output_type": "stream",
          "name": "stdout",
          "text": [
            "Datos descartados:  17602\n",
            "Datos empleados:  7545\n"
          ]
        }
      ]
    },
    {
      "cell_type": "markdown",
      "source": [
        "Valores de la etiqueta:"
      ],
      "metadata": {
        "id": "4MHNNzY7CUVf"
      }
    },
    {
      "cell_type": "code",
      "source": [
        "datos['existe competencia educaciÃ³n'].value_counts()"
      ],
      "metadata": {
        "colab": {
          "base_uri": "https://localhost:8080/"
        },
        "id": "-vDKtLCN_7I8",
        "outputId": "8b695d17-af0f-49f3-fb0d-fa27e79e3f44"
      },
      "execution_count": null,
      "outputs": [
        {
          "output_type": "execute_result",
          "data": {
            "text/plain": [
              "NO    6704\n",
              "SI     841\n",
              "Name: existe competencia educaciÃ³n, dtype: int64"
            ]
          },
          "metadata": {},
          "execution_count": 4
        }
      ]
    },
    {
      "cell_type": "markdown",
      "source": [
        "#Explicación de los datos\n",
        "Este dataset recopila información de profesionales que aplican a un determinado cargo, a partir de sus cualidades personales y técnicas se clasifica a la persona para ver si es apta o no para el puesto. Se evaluan caracteristicas como cargo actual, tipo de educación, profesión, habiliades... etc. La etiqueta o salida vendría siendo si es apto o no para el cargo, si es 1 y 2 es no."
      ],
      "metadata": {
        "id": "YZfeNUkUGDUC"
      }
    },
    {
      "cell_type": "code",
      "source": [
        "datos.info()"
      ],
      "metadata": {
        "colab": {
          "base_uri": "https://localhost:8080/"
        },
        "id": "XReqh3CgGDwB",
        "outputId": "a7f4f059-8b94-41ba-9885-77c233c03511"
      },
      "execution_count": null,
      "outputs": [
        {
          "output_type": "stream",
          "name": "stdout",
          "text": [
            "<class 'pandas.core.frame.DataFrame'>\n",
            "Int64Index: 7545 entries, 18274 to 7528\n",
            "Data columns (total 9 columns):\n",
            " #   Column                                 Non-Null Count  Dtype \n",
            "---  ------                                 --------------  ----- \n",
            " 0   Encuesta                               7545 non-null   object\n",
            " 1   Cargo u oficio por entrevistados       7545 non-null   object\n",
            " 2   OcupaciÃ³n CUOC                        7545 non-null   object\n",
            " 3   Prorgramas educativos para este cargo  7545 non-null   object\n",
            " 4   Nivel educativo                        7545 non-null   object\n",
            " 5   Municipio                              7545 non-null   object\n",
            " 6   Competencia reportada con falencia     7545 non-null   object\n",
            " 7   Tipo de competencia                    7545 non-null   object\n",
            " 8   existe competencia educaciÃ³n          7545 non-null   object\n",
            "dtypes: object(9)\n",
            "memory usage: 589.5+ KB\n"
          ]
        }
      ]
    },
    {
      "cell_type": "code",
      "source": [
        "datos = datos.drop(['Encuesta','Municipio'], axis=1)\n",
        "datos.head()"
      ],
      "metadata": {
        "colab": {
          "base_uri": "https://localhost:8080/",
          "height": 478
        },
        "id": "sFoL2pMdGHAV",
        "outputId": "9164755c-67a5-4433-c8a9-c9d9fc2d578e"
      },
      "execution_count": null,
      "outputs": [
        {
          "output_type": "execute_result",
          "data": {
            "text/plain": [
              "      Cargo u oficio por entrevistados  \\\n",
              "18274          INGENIERO DE DESARROLLO   \n",
              "23931                      PROGRAMADOR   \n",
              "10373          DIRECTOR DE TECNOLOGÃA   \n",
              "7790              DESARROLLADOR JUNIOR   \n",
              "8598              DESARROLLADOR SENIOR   \n",
              "\n",
              "                                         OcupaciÃ³n CUOC  \\\n",
              "18274                 25120. DESARROLLADORES DE SOFTWARE   \n",
              "23931                 25120. DESARROLLADORES DE SOFTWARE   \n",
              "10373  13302. DIRECTORES Y GERENTES DE SISTEMAS DE IN...   \n",
              "7790                  25120. DESARROLLADORES DE SOFTWARE   \n",
              "8598                  25120. DESARROLLADORES DE SOFTWARE   \n",
              "\n",
              "            Prorgramas educativos para este cargo Nivel educativo  \\\n",
              "18274                     INGENIERÃA DE SISTEMAS   UNIVERSITARIO   \n",
              "23931       TECNOLOGÃA EN DESARROLLO DE SOFTWARE      TECNÃLOGO   \n",
              "10373  ESPECIALIZACIÃN EN DESARROLLO DE SOFTWARE        POSGRADO   \n",
              "7790        TECNOLOGÃA EN DESARROLLO DE SOFTWARE      TECNÃLOGO   \n",
              "8598      TECNOLOGÃA EN SISTEMAS DE INFORMACIÃN      TECNÃLOGO   \n",
              "\n",
              "      Competencia reportada con falencia Tipo de competencia  \\\n",
              "18274        TECNOLOGÃA DE INFORMACIÃN               DURAS   \n",
              "23931                     COMPETITIVIDAD             BLANDAS   \n",
              "10373                         BLOCKCHAIN               DURAS   \n",
              "7790             ORIENTACIÃN AL CLIENTE             BLANDAS   \n",
              "8598                      CONCENTRACIÃN             BLANDAS   \n",
              "\n",
              "      existe competencia educaciÃ³n  \n",
              "18274                            SI  \n",
              "23931                            NO  \n",
              "10373                            NO  \n",
              "7790                             NO  \n",
              "8598                             NO  "
            ],
            "text/html": [
              "\n",
              "  <div id=\"df-4ecd65a4-8b68-4033-9930-af47f1aee5d2\">\n",
              "    <div class=\"colab-df-container\">\n",
              "      <div>\n",
              "<style scoped>\n",
              "    .dataframe tbody tr th:only-of-type {\n",
              "        vertical-align: middle;\n",
              "    }\n",
              "\n",
              "    .dataframe tbody tr th {\n",
              "        vertical-align: top;\n",
              "    }\n",
              "\n",
              "    .dataframe thead th {\n",
              "        text-align: right;\n",
              "    }\n",
              "</style>\n",
              "<table border=\"1\" class=\"dataframe\">\n",
              "  <thead>\n",
              "    <tr style=\"text-align: right;\">\n",
              "      <th></th>\n",
              "      <th>Cargo u oficio por entrevistados</th>\n",
              "      <th>OcupaciÃ³n CUOC</th>\n",
              "      <th>Prorgramas educativos para este cargo</th>\n",
              "      <th>Nivel educativo</th>\n",
              "      <th>Competencia reportada con falencia</th>\n",
              "      <th>Tipo de competencia</th>\n",
              "      <th>existe competencia educaciÃ³n</th>\n",
              "    </tr>\n",
              "  </thead>\n",
              "  <tbody>\n",
              "    <tr>\n",
              "      <th>18274</th>\n",
              "      <td>INGENIERO DE DESARROLLO</td>\n",
              "      <td>25120. DESARROLLADORES DE SOFTWARE</td>\n",
              "      <td>INGENIERÃA DE SISTEMAS</td>\n",
              "      <td>UNIVERSITARIO</td>\n",
              "      <td>TECNOLOGÃA DE INFORMACIÃN</td>\n",
              "      <td>DURAS</td>\n",
              "      <td>SI</td>\n",
              "    </tr>\n",
              "    <tr>\n",
              "      <th>23931</th>\n",
              "      <td>PROGRAMADOR</td>\n",
              "      <td>25120. DESARROLLADORES DE SOFTWARE</td>\n",
              "      <td>TECNOLOGÃA EN DESARROLLO DE SOFTWARE</td>\n",
              "      <td>TECNÃLOGO</td>\n",
              "      <td>COMPETITIVIDAD</td>\n",
              "      <td>BLANDAS</td>\n",
              "      <td>NO</td>\n",
              "    </tr>\n",
              "    <tr>\n",
              "      <th>10373</th>\n",
              "      <td>DIRECTOR DE TECNOLOGÃA</td>\n",
              "      <td>13302. DIRECTORES Y GERENTES DE SISTEMAS DE IN...</td>\n",
              "      <td>ESPECIALIZACIÃN EN DESARROLLO DE SOFTWARE</td>\n",
              "      <td>POSGRADO</td>\n",
              "      <td>BLOCKCHAIN</td>\n",
              "      <td>DURAS</td>\n",
              "      <td>NO</td>\n",
              "    </tr>\n",
              "    <tr>\n",
              "      <th>7790</th>\n",
              "      <td>DESARROLLADOR JUNIOR</td>\n",
              "      <td>25120. DESARROLLADORES DE SOFTWARE</td>\n",
              "      <td>TECNOLOGÃA EN DESARROLLO DE SOFTWARE</td>\n",
              "      <td>TECNÃLOGO</td>\n",
              "      <td>ORIENTACIÃN AL CLIENTE</td>\n",
              "      <td>BLANDAS</td>\n",
              "      <td>NO</td>\n",
              "    </tr>\n",
              "    <tr>\n",
              "      <th>8598</th>\n",
              "      <td>DESARROLLADOR SENIOR</td>\n",
              "      <td>25120. DESARROLLADORES DE SOFTWARE</td>\n",
              "      <td>TECNOLOGÃA EN SISTEMAS DE INFORMACIÃN</td>\n",
              "      <td>TECNÃLOGO</td>\n",
              "      <td>CONCENTRACIÃN</td>\n",
              "      <td>BLANDAS</td>\n",
              "      <td>NO</td>\n",
              "    </tr>\n",
              "  </tbody>\n",
              "</table>\n",
              "</div>\n",
              "      <button class=\"colab-df-convert\" onclick=\"convertToInteractive('df-4ecd65a4-8b68-4033-9930-af47f1aee5d2')\"\n",
              "              title=\"Convert this dataframe to an interactive table.\"\n",
              "              style=\"display:none;\">\n",
              "        \n",
              "  <svg xmlns=\"http://www.w3.org/2000/svg\" height=\"24px\"viewBox=\"0 0 24 24\"\n",
              "       width=\"24px\">\n",
              "    <path d=\"M0 0h24v24H0V0z\" fill=\"none\"/>\n",
              "    <path d=\"M18.56 5.44l.94 2.06.94-2.06 2.06-.94-2.06-.94-.94-2.06-.94 2.06-2.06.94zm-11 1L8.5 8.5l.94-2.06 2.06-.94-2.06-.94L8.5 2.5l-.94 2.06-2.06.94zm10 10l.94 2.06.94-2.06 2.06-.94-2.06-.94-.94-2.06-.94 2.06-2.06.94z\"/><path d=\"M17.41 7.96l-1.37-1.37c-.4-.4-.92-.59-1.43-.59-.52 0-1.04.2-1.43.59L10.3 9.45l-7.72 7.72c-.78.78-.78 2.05 0 2.83L4 21.41c.39.39.9.59 1.41.59.51 0 1.02-.2 1.41-.59l7.78-7.78 2.81-2.81c.8-.78.8-2.07 0-2.86zM5.41 20L4 18.59l7.72-7.72 1.47 1.35L5.41 20z\"/>\n",
              "  </svg>\n",
              "      </button>\n",
              "      \n",
              "  <style>\n",
              "    .colab-df-container {\n",
              "      display:flex;\n",
              "      flex-wrap:wrap;\n",
              "      gap: 12px;\n",
              "    }\n",
              "\n",
              "    .colab-df-convert {\n",
              "      background-color: #E8F0FE;\n",
              "      border: none;\n",
              "      border-radius: 50%;\n",
              "      cursor: pointer;\n",
              "      display: none;\n",
              "      fill: #1967D2;\n",
              "      height: 32px;\n",
              "      padding: 0 0 0 0;\n",
              "      width: 32px;\n",
              "    }\n",
              "\n",
              "    .colab-df-convert:hover {\n",
              "      background-color: #E2EBFA;\n",
              "      box-shadow: 0px 1px 2px rgba(60, 64, 67, 0.3), 0px 1px 3px 1px rgba(60, 64, 67, 0.15);\n",
              "      fill: #174EA6;\n",
              "    }\n",
              "\n",
              "    [theme=dark] .colab-df-convert {\n",
              "      background-color: #3B4455;\n",
              "      fill: #D2E3FC;\n",
              "    }\n",
              "\n",
              "    [theme=dark] .colab-df-convert:hover {\n",
              "      background-color: #434B5C;\n",
              "      box-shadow: 0px 1px 3px 1px rgba(0, 0, 0, 0.15);\n",
              "      filter: drop-shadow(0px 1px 2px rgba(0, 0, 0, 0.3));\n",
              "      fill: #FFFFFF;\n",
              "    }\n",
              "  </style>\n",
              "\n",
              "      <script>\n",
              "        const buttonEl =\n",
              "          document.querySelector('#df-4ecd65a4-8b68-4033-9930-af47f1aee5d2 button.colab-df-convert');\n",
              "        buttonEl.style.display =\n",
              "          google.colab.kernel.accessAllowed ? 'block' : 'none';\n",
              "\n",
              "        async function convertToInteractive(key) {\n",
              "          const element = document.querySelector('#df-4ecd65a4-8b68-4033-9930-af47f1aee5d2');\n",
              "          const dataTable =\n",
              "            await google.colab.kernel.invokeFunction('convertToInteractive',\n",
              "                                                     [key], {});\n",
              "          if (!dataTable) return;\n",
              "\n",
              "          const docLinkHtml = 'Like what you see? Visit the ' +\n",
              "            '<a target=\"_blank\" href=https://colab.research.google.com/notebooks/data_table.ipynb>data table notebook</a>'\n",
              "            + ' to learn more about interactive tables.';\n",
              "          element.innerHTML = '';\n",
              "          dataTable['output_type'] = 'display_data';\n",
              "          await google.colab.output.renderOutput(dataTable, element);\n",
              "          const docLink = document.createElement('div');\n",
              "          docLink.innerHTML = docLinkHtml;\n",
              "          element.appendChild(docLink);\n",
              "        }\n",
              "      </script>\n",
              "    </div>\n",
              "  </div>\n",
              "  "
            ]
          },
          "metadata": {},
          "execution_count": 6
        }
      ]
    },
    {
      "cell_type": "code",
      "source": [
        "datos.head()"
      ],
      "metadata": {
        "colab": {
          "base_uri": "https://localhost:8080/",
          "height": 478
        },
        "id": "-DFANAOM4Vl7",
        "outputId": "9737500d-d0ed-42d6-b13c-e2c5863580e0"
      },
      "execution_count": null,
      "outputs": [
        {
          "output_type": "execute_result",
          "data": {
            "text/plain": [
              "      Cargo u oficio por entrevistados  \\\n",
              "18274          INGENIERO DE DESARROLLO   \n",
              "23931                      PROGRAMADOR   \n",
              "10373          DIRECTOR DE TECNOLOGÃA   \n",
              "7790              DESARROLLADOR JUNIOR   \n",
              "8598              DESARROLLADOR SENIOR   \n",
              "\n",
              "                                         OcupaciÃ³n CUOC  \\\n",
              "18274                 25120. DESARROLLADORES DE SOFTWARE   \n",
              "23931                 25120. DESARROLLADORES DE SOFTWARE   \n",
              "10373  13302. DIRECTORES Y GERENTES DE SISTEMAS DE IN...   \n",
              "7790                  25120. DESARROLLADORES DE SOFTWARE   \n",
              "8598                  25120. DESARROLLADORES DE SOFTWARE   \n",
              "\n",
              "            Prorgramas educativos para este cargo Nivel educativo  \\\n",
              "18274                     INGENIERÃA DE SISTEMAS   UNIVERSITARIO   \n",
              "23931       TECNOLOGÃA EN DESARROLLO DE SOFTWARE      TECNÃLOGO   \n",
              "10373  ESPECIALIZACIÃN EN DESARROLLO DE SOFTWARE        POSGRADO   \n",
              "7790        TECNOLOGÃA EN DESARROLLO DE SOFTWARE      TECNÃLOGO   \n",
              "8598      TECNOLOGÃA EN SISTEMAS DE INFORMACIÃN      TECNÃLOGO   \n",
              "\n",
              "      Competencia reportada con falencia Tipo de competencia  \\\n",
              "18274        TECNOLOGÃA DE INFORMACIÃN               DURAS   \n",
              "23931                     COMPETITIVIDAD             BLANDAS   \n",
              "10373                         BLOCKCHAIN               DURAS   \n",
              "7790             ORIENTACIÃN AL CLIENTE             BLANDAS   \n",
              "8598                      CONCENTRACIÃN             BLANDAS   \n",
              "\n",
              "      existe competencia educaciÃ³n  \n",
              "18274                            SI  \n",
              "23931                            NO  \n",
              "10373                            NO  \n",
              "7790                             NO  \n",
              "8598                             NO  "
            ],
            "text/html": [
              "\n",
              "  <div id=\"df-af6436f1-f3cd-43f6-94d7-c0cd95b05d07\">\n",
              "    <div class=\"colab-df-container\">\n",
              "      <div>\n",
              "<style scoped>\n",
              "    .dataframe tbody tr th:only-of-type {\n",
              "        vertical-align: middle;\n",
              "    }\n",
              "\n",
              "    .dataframe tbody tr th {\n",
              "        vertical-align: top;\n",
              "    }\n",
              "\n",
              "    .dataframe thead th {\n",
              "        text-align: right;\n",
              "    }\n",
              "</style>\n",
              "<table border=\"1\" class=\"dataframe\">\n",
              "  <thead>\n",
              "    <tr style=\"text-align: right;\">\n",
              "      <th></th>\n",
              "      <th>Cargo u oficio por entrevistados</th>\n",
              "      <th>OcupaciÃ³n CUOC</th>\n",
              "      <th>Prorgramas educativos para este cargo</th>\n",
              "      <th>Nivel educativo</th>\n",
              "      <th>Competencia reportada con falencia</th>\n",
              "      <th>Tipo de competencia</th>\n",
              "      <th>existe competencia educaciÃ³n</th>\n",
              "    </tr>\n",
              "  </thead>\n",
              "  <tbody>\n",
              "    <tr>\n",
              "      <th>18274</th>\n",
              "      <td>INGENIERO DE DESARROLLO</td>\n",
              "      <td>25120. DESARROLLADORES DE SOFTWARE</td>\n",
              "      <td>INGENIERÃA DE SISTEMAS</td>\n",
              "      <td>UNIVERSITARIO</td>\n",
              "      <td>TECNOLOGÃA DE INFORMACIÃN</td>\n",
              "      <td>DURAS</td>\n",
              "      <td>SI</td>\n",
              "    </tr>\n",
              "    <tr>\n",
              "      <th>23931</th>\n",
              "      <td>PROGRAMADOR</td>\n",
              "      <td>25120. DESARROLLADORES DE SOFTWARE</td>\n",
              "      <td>TECNOLOGÃA EN DESARROLLO DE SOFTWARE</td>\n",
              "      <td>TECNÃLOGO</td>\n",
              "      <td>COMPETITIVIDAD</td>\n",
              "      <td>BLANDAS</td>\n",
              "      <td>NO</td>\n",
              "    </tr>\n",
              "    <tr>\n",
              "      <th>10373</th>\n",
              "      <td>DIRECTOR DE TECNOLOGÃA</td>\n",
              "      <td>13302. DIRECTORES Y GERENTES DE SISTEMAS DE IN...</td>\n",
              "      <td>ESPECIALIZACIÃN EN DESARROLLO DE SOFTWARE</td>\n",
              "      <td>POSGRADO</td>\n",
              "      <td>BLOCKCHAIN</td>\n",
              "      <td>DURAS</td>\n",
              "      <td>NO</td>\n",
              "    </tr>\n",
              "    <tr>\n",
              "      <th>7790</th>\n",
              "      <td>DESARROLLADOR JUNIOR</td>\n",
              "      <td>25120. DESARROLLADORES DE SOFTWARE</td>\n",
              "      <td>TECNOLOGÃA EN DESARROLLO DE SOFTWARE</td>\n",
              "      <td>TECNÃLOGO</td>\n",
              "      <td>ORIENTACIÃN AL CLIENTE</td>\n",
              "      <td>BLANDAS</td>\n",
              "      <td>NO</td>\n",
              "    </tr>\n",
              "    <tr>\n",
              "      <th>8598</th>\n",
              "      <td>DESARROLLADOR SENIOR</td>\n",
              "      <td>25120. DESARROLLADORES DE SOFTWARE</td>\n",
              "      <td>TECNOLOGÃA EN SISTEMAS DE INFORMACIÃN</td>\n",
              "      <td>TECNÃLOGO</td>\n",
              "      <td>CONCENTRACIÃN</td>\n",
              "      <td>BLANDAS</td>\n",
              "      <td>NO</td>\n",
              "    </tr>\n",
              "  </tbody>\n",
              "</table>\n",
              "</div>\n",
              "      <button class=\"colab-df-convert\" onclick=\"convertToInteractive('df-af6436f1-f3cd-43f6-94d7-c0cd95b05d07')\"\n",
              "              title=\"Convert this dataframe to an interactive table.\"\n",
              "              style=\"display:none;\">\n",
              "        \n",
              "  <svg xmlns=\"http://www.w3.org/2000/svg\" height=\"24px\"viewBox=\"0 0 24 24\"\n",
              "       width=\"24px\">\n",
              "    <path d=\"M0 0h24v24H0V0z\" fill=\"none\"/>\n",
              "    <path d=\"M18.56 5.44l.94 2.06.94-2.06 2.06-.94-2.06-.94-.94-2.06-.94 2.06-2.06.94zm-11 1L8.5 8.5l.94-2.06 2.06-.94-2.06-.94L8.5 2.5l-.94 2.06-2.06.94zm10 10l.94 2.06.94-2.06 2.06-.94-2.06-.94-.94-2.06-.94 2.06-2.06.94z\"/><path d=\"M17.41 7.96l-1.37-1.37c-.4-.4-.92-.59-1.43-.59-.52 0-1.04.2-1.43.59L10.3 9.45l-7.72 7.72c-.78.78-.78 2.05 0 2.83L4 21.41c.39.39.9.59 1.41.59.51 0 1.02-.2 1.41-.59l7.78-7.78 2.81-2.81c.8-.78.8-2.07 0-2.86zM5.41 20L4 18.59l7.72-7.72 1.47 1.35L5.41 20z\"/>\n",
              "  </svg>\n",
              "      </button>\n",
              "      \n",
              "  <style>\n",
              "    .colab-df-container {\n",
              "      display:flex;\n",
              "      flex-wrap:wrap;\n",
              "      gap: 12px;\n",
              "    }\n",
              "\n",
              "    .colab-df-convert {\n",
              "      background-color: #E8F0FE;\n",
              "      border: none;\n",
              "      border-radius: 50%;\n",
              "      cursor: pointer;\n",
              "      display: none;\n",
              "      fill: #1967D2;\n",
              "      height: 32px;\n",
              "      padding: 0 0 0 0;\n",
              "      width: 32px;\n",
              "    }\n",
              "\n",
              "    .colab-df-convert:hover {\n",
              "      background-color: #E2EBFA;\n",
              "      box-shadow: 0px 1px 2px rgba(60, 64, 67, 0.3), 0px 1px 3px 1px rgba(60, 64, 67, 0.15);\n",
              "      fill: #174EA6;\n",
              "    }\n",
              "\n",
              "    [theme=dark] .colab-df-convert {\n",
              "      background-color: #3B4455;\n",
              "      fill: #D2E3FC;\n",
              "    }\n",
              "\n",
              "    [theme=dark] .colab-df-convert:hover {\n",
              "      background-color: #434B5C;\n",
              "      box-shadow: 0px 1px 3px 1px rgba(0, 0, 0, 0.15);\n",
              "      filter: drop-shadow(0px 1px 2px rgba(0, 0, 0, 0.3));\n",
              "      fill: #FFFFFF;\n",
              "    }\n",
              "  </style>\n",
              "\n",
              "      <script>\n",
              "        const buttonEl =\n",
              "          document.querySelector('#df-af6436f1-f3cd-43f6-94d7-c0cd95b05d07 button.colab-df-convert');\n",
              "        buttonEl.style.display =\n",
              "          google.colab.kernel.accessAllowed ? 'block' : 'none';\n",
              "\n",
              "        async function convertToInteractive(key) {\n",
              "          const element = document.querySelector('#df-af6436f1-f3cd-43f6-94d7-c0cd95b05d07');\n",
              "          const dataTable =\n",
              "            await google.colab.kernel.invokeFunction('convertToInteractive',\n",
              "                                                     [key], {});\n",
              "          if (!dataTable) return;\n",
              "\n",
              "          const docLinkHtml = 'Like what you see? Visit the ' +\n",
              "            '<a target=\"_blank\" href=https://colab.research.google.com/notebooks/data_table.ipynb>data table notebook</a>'\n",
              "            + ' to learn more about interactive tables.';\n",
              "          element.innerHTML = '';\n",
              "          dataTable['output_type'] = 'display_data';\n",
              "          await google.colab.output.renderOutput(dataTable, element);\n",
              "          const docLink = document.createElement('div');\n",
              "          docLink.innerHTML = docLinkHtml;\n",
              "          element.appendChild(docLink);\n",
              "        }\n",
              "      </script>\n",
              "    </div>\n",
              "  </div>\n",
              "  "
            ]
          },
          "metadata": {},
          "execution_count": 7
        }
      ]
    },
    {
      "cell_type": "markdown",
      "source": [
        "Hago reemplazo de algunas columnas por datos númericos para facilitar la predicción, esto dado que son columnas que teniene poca variedad de datos y es fácil contarlos y manejarlos."
      ],
      "metadata": {
        "id": "SIZZAgAIGVLQ"
      }
    },
    {
      "cell_type": "code",
      "source": [
        "datos = datos.replace({\"BLANDAS\": 1, \"DURAS\": 2})\n",
        "datos = datos.replace({\"SI\": 1, \"NO\":0})\n",
        "datos = datos.replace({\"UNIVERSITARIO\": 1, \"POSGRADO\":2,\"TECNÃLOGO\": 3, \"TÃCNICO\":4})"
      ],
      "metadata": {
        "id": "u3uhRIbPGKY4"
      },
      "execution_count": null,
      "outputs": []
    },
    {
      "cell_type": "markdown",
      "source": [
        "#Cambio a númericas\n",
        "\n",
        "##Tipo de competencia\n",
        "·Blandas - 1\n",
        "·Duras -2\n",
        "\n",
        "##existe competencia educaciÃ³n\n",
        "·Si - 1\n",
        "·No - 0\n",
        "\n",
        "##Nivel educativo\n",
        "·Universitario - 1\n",
        "·Posgrado - 2\n",
        "·Tecnologo - 3\n",
        "·Tecnico - 4\n",
        "\n"
      ],
      "metadata": {
        "id": "JTBkudr9GZ7Z"
      }
    },
    {
      "cell_type": "code",
      "source": [
        "datos.head()"
      ],
      "metadata": {
        "colab": {
          "base_uri": "https://localhost:8080/",
          "height": 478
        },
        "id": "4IBNnW6-GXLz",
        "outputId": "5fe9d43c-47f9-4fb6-a6a3-052fde46f0ba"
      },
      "execution_count": null,
      "outputs": [
        {
          "output_type": "execute_result",
          "data": {
            "text/plain": [
              "      Cargo u oficio por entrevistados  \\\n",
              "18274          INGENIERO DE DESARROLLO   \n",
              "23931                      PROGRAMADOR   \n",
              "10373          DIRECTOR DE TECNOLOGÃA   \n",
              "7790              DESARROLLADOR JUNIOR   \n",
              "8598              DESARROLLADOR SENIOR   \n",
              "\n",
              "                                         OcupaciÃ³n CUOC  \\\n",
              "18274                 25120. DESARROLLADORES DE SOFTWARE   \n",
              "23931                 25120. DESARROLLADORES DE SOFTWARE   \n",
              "10373  13302. DIRECTORES Y GERENTES DE SISTEMAS DE IN...   \n",
              "7790                  25120. DESARROLLADORES DE SOFTWARE   \n",
              "8598                  25120. DESARROLLADORES DE SOFTWARE   \n",
              "\n",
              "            Prorgramas educativos para este cargo  Nivel educativo  \\\n",
              "18274                     INGENIERÃA DE SISTEMAS                1   \n",
              "23931       TECNOLOGÃA EN DESARROLLO DE SOFTWARE                3   \n",
              "10373  ESPECIALIZACIÃN EN DESARROLLO DE SOFTWARE                2   \n",
              "7790        TECNOLOGÃA EN DESARROLLO DE SOFTWARE                3   \n",
              "8598      TECNOLOGÃA EN SISTEMAS DE INFORMACIÃN                3   \n",
              "\n",
              "      Competencia reportada con falencia  Tipo de competencia  \\\n",
              "18274        TECNOLOGÃA DE INFORMACIÃN                    2   \n",
              "23931                     COMPETITIVIDAD                    1   \n",
              "10373                         BLOCKCHAIN                    2   \n",
              "7790             ORIENTACIÃN AL CLIENTE                    1   \n",
              "8598                      CONCENTRACIÃN                    1   \n",
              "\n",
              "       existe competencia educaciÃ³n  \n",
              "18274                              1  \n",
              "23931                              0  \n",
              "10373                              0  \n",
              "7790                               0  \n",
              "8598                               0  "
            ],
            "text/html": [
              "\n",
              "  <div id=\"df-eeb38b64-0b9d-434c-ae48-94ffaf7516fd\">\n",
              "    <div class=\"colab-df-container\">\n",
              "      <div>\n",
              "<style scoped>\n",
              "    .dataframe tbody tr th:only-of-type {\n",
              "        vertical-align: middle;\n",
              "    }\n",
              "\n",
              "    .dataframe tbody tr th {\n",
              "        vertical-align: top;\n",
              "    }\n",
              "\n",
              "    .dataframe thead th {\n",
              "        text-align: right;\n",
              "    }\n",
              "</style>\n",
              "<table border=\"1\" class=\"dataframe\">\n",
              "  <thead>\n",
              "    <tr style=\"text-align: right;\">\n",
              "      <th></th>\n",
              "      <th>Cargo u oficio por entrevistados</th>\n",
              "      <th>OcupaciÃ³n CUOC</th>\n",
              "      <th>Prorgramas educativos para este cargo</th>\n",
              "      <th>Nivel educativo</th>\n",
              "      <th>Competencia reportada con falencia</th>\n",
              "      <th>Tipo de competencia</th>\n",
              "      <th>existe competencia educaciÃ³n</th>\n",
              "    </tr>\n",
              "  </thead>\n",
              "  <tbody>\n",
              "    <tr>\n",
              "      <th>18274</th>\n",
              "      <td>INGENIERO DE DESARROLLO</td>\n",
              "      <td>25120. DESARROLLADORES DE SOFTWARE</td>\n",
              "      <td>INGENIERÃA DE SISTEMAS</td>\n",
              "      <td>1</td>\n",
              "      <td>TECNOLOGÃA DE INFORMACIÃN</td>\n",
              "      <td>2</td>\n",
              "      <td>1</td>\n",
              "    </tr>\n",
              "    <tr>\n",
              "      <th>23931</th>\n",
              "      <td>PROGRAMADOR</td>\n",
              "      <td>25120. DESARROLLADORES DE SOFTWARE</td>\n",
              "      <td>TECNOLOGÃA EN DESARROLLO DE SOFTWARE</td>\n",
              "      <td>3</td>\n",
              "      <td>COMPETITIVIDAD</td>\n",
              "      <td>1</td>\n",
              "      <td>0</td>\n",
              "    </tr>\n",
              "    <tr>\n",
              "      <th>10373</th>\n",
              "      <td>DIRECTOR DE TECNOLOGÃA</td>\n",
              "      <td>13302. DIRECTORES Y GERENTES DE SISTEMAS DE IN...</td>\n",
              "      <td>ESPECIALIZACIÃN EN DESARROLLO DE SOFTWARE</td>\n",
              "      <td>2</td>\n",
              "      <td>BLOCKCHAIN</td>\n",
              "      <td>2</td>\n",
              "      <td>0</td>\n",
              "    </tr>\n",
              "    <tr>\n",
              "      <th>7790</th>\n",
              "      <td>DESARROLLADOR JUNIOR</td>\n",
              "      <td>25120. DESARROLLADORES DE SOFTWARE</td>\n",
              "      <td>TECNOLOGÃA EN DESARROLLO DE SOFTWARE</td>\n",
              "      <td>3</td>\n",
              "      <td>ORIENTACIÃN AL CLIENTE</td>\n",
              "      <td>1</td>\n",
              "      <td>0</td>\n",
              "    </tr>\n",
              "    <tr>\n",
              "      <th>8598</th>\n",
              "      <td>DESARROLLADOR SENIOR</td>\n",
              "      <td>25120. DESARROLLADORES DE SOFTWARE</td>\n",
              "      <td>TECNOLOGÃA EN SISTEMAS DE INFORMACIÃN</td>\n",
              "      <td>3</td>\n",
              "      <td>CONCENTRACIÃN</td>\n",
              "      <td>1</td>\n",
              "      <td>0</td>\n",
              "    </tr>\n",
              "  </tbody>\n",
              "</table>\n",
              "</div>\n",
              "      <button class=\"colab-df-convert\" onclick=\"convertToInteractive('df-eeb38b64-0b9d-434c-ae48-94ffaf7516fd')\"\n",
              "              title=\"Convert this dataframe to an interactive table.\"\n",
              "              style=\"display:none;\">\n",
              "        \n",
              "  <svg xmlns=\"http://www.w3.org/2000/svg\" height=\"24px\"viewBox=\"0 0 24 24\"\n",
              "       width=\"24px\">\n",
              "    <path d=\"M0 0h24v24H0V0z\" fill=\"none\"/>\n",
              "    <path d=\"M18.56 5.44l.94 2.06.94-2.06 2.06-.94-2.06-.94-.94-2.06-.94 2.06-2.06.94zm-11 1L8.5 8.5l.94-2.06 2.06-.94-2.06-.94L8.5 2.5l-.94 2.06-2.06.94zm10 10l.94 2.06.94-2.06 2.06-.94-2.06-.94-.94-2.06-.94 2.06-2.06.94z\"/><path d=\"M17.41 7.96l-1.37-1.37c-.4-.4-.92-.59-1.43-.59-.52 0-1.04.2-1.43.59L10.3 9.45l-7.72 7.72c-.78.78-.78 2.05 0 2.83L4 21.41c.39.39.9.59 1.41.59.51 0 1.02-.2 1.41-.59l7.78-7.78 2.81-2.81c.8-.78.8-2.07 0-2.86zM5.41 20L4 18.59l7.72-7.72 1.47 1.35L5.41 20z\"/>\n",
              "  </svg>\n",
              "      </button>\n",
              "      \n",
              "  <style>\n",
              "    .colab-df-container {\n",
              "      display:flex;\n",
              "      flex-wrap:wrap;\n",
              "      gap: 12px;\n",
              "    }\n",
              "\n",
              "    .colab-df-convert {\n",
              "      background-color: #E8F0FE;\n",
              "      border: none;\n",
              "      border-radius: 50%;\n",
              "      cursor: pointer;\n",
              "      display: none;\n",
              "      fill: #1967D2;\n",
              "      height: 32px;\n",
              "      padding: 0 0 0 0;\n",
              "      width: 32px;\n",
              "    }\n",
              "\n",
              "    .colab-df-convert:hover {\n",
              "      background-color: #E2EBFA;\n",
              "      box-shadow: 0px 1px 2px rgba(60, 64, 67, 0.3), 0px 1px 3px 1px rgba(60, 64, 67, 0.15);\n",
              "      fill: #174EA6;\n",
              "    }\n",
              "\n",
              "    [theme=dark] .colab-df-convert {\n",
              "      background-color: #3B4455;\n",
              "      fill: #D2E3FC;\n",
              "    }\n",
              "\n",
              "    [theme=dark] .colab-df-convert:hover {\n",
              "      background-color: #434B5C;\n",
              "      box-shadow: 0px 1px 3px 1px rgba(0, 0, 0, 0.15);\n",
              "      filter: drop-shadow(0px 1px 2px rgba(0, 0, 0, 0.3));\n",
              "      fill: #FFFFFF;\n",
              "    }\n",
              "  </style>\n",
              "\n",
              "      <script>\n",
              "        const buttonEl =\n",
              "          document.querySelector('#df-eeb38b64-0b9d-434c-ae48-94ffaf7516fd button.colab-df-convert');\n",
              "        buttonEl.style.display =\n",
              "          google.colab.kernel.accessAllowed ? 'block' : 'none';\n",
              "\n",
              "        async function convertToInteractive(key) {\n",
              "          const element = document.querySelector('#df-eeb38b64-0b9d-434c-ae48-94ffaf7516fd');\n",
              "          const dataTable =\n",
              "            await google.colab.kernel.invokeFunction('convertToInteractive',\n",
              "                                                     [key], {});\n",
              "          if (!dataTable) return;\n",
              "\n",
              "          const docLinkHtml = 'Like what you see? Visit the ' +\n",
              "            '<a target=\"_blank\" href=https://colab.research.google.com/notebooks/data_table.ipynb>data table notebook</a>'\n",
              "            + ' to learn more about interactive tables.';\n",
              "          element.innerHTML = '';\n",
              "          dataTable['output_type'] = 'display_data';\n",
              "          await google.colab.output.renderOutput(dataTable, element);\n",
              "          const docLink = document.createElement('div');\n",
              "          docLink.innerHTML = docLinkHtml;\n",
              "          element.appendChild(docLink);\n",
              "        }\n",
              "      </script>\n",
              "    </div>\n",
              "  </div>\n",
              "  "
            ]
          },
          "metadata": {},
          "execution_count": 9
        }
      ]
    },
    {
      "cell_type": "code",
      "source": [
        "datos.info()"
      ],
      "metadata": {
        "colab": {
          "base_uri": "https://localhost:8080/"
        },
        "id": "b9OuC0dX4EWk",
        "outputId": "26aefecf-db2e-41da-ce90-3a84125110f2"
      },
      "execution_count": null,
      "outputs": [
        {
          "output_type": "stream",
          "name": "stdout",
          "text": [
            "<class 'pandas.core.frame.DataFrame'>\n",
            "Int64Index: 7545 entries, 18274 to 7528\n",
            "Data columns (total 7 columns):\n",
            " #   Column                                 Non-Null Count  Dtype \n",
            "---  ------                                 --------------  ----- \n",
            " 0   Cargo u oficio por entrevistados       7545 non-null   object\n",
            " 1   OcupaciÃ³n CUOC                        7545 non-null   object\n",
            " 2   Prorgramas educativos para este cargo  7545 non-null   object\n",
            " 3   Nivel educativo                        7545 non-null   int64 \n",
            " 4   Competencia reportada con falencia     7545 non-null   object\n",
            " 5   Tipo de competencia                    7545 non-null   int64 \n",
            " 6   existe competencia educaciÃ³n          7545 non-null   int64 \n",
            "dtypes: int64(3), object(4)\n",
            "memory usage: 471.6+ KB\n"
          ]
        }
      ]
    },
    {
      "cell_type": "markdown",
      "source": [
        "Convierto los datos a tipo category para poder aplicar posteriormente las dummies, acá se aplicaron dummies por ser columnas con exceso de datos diferentes o por ser muy variados."
      ],
      "metadata": {
        "id": "xIdAmf45GewH"
      }
    },
    {
      "cell_type": "code",
      "source": [
        "datos['Cargo u oficio por entrevistados']=datos['Cargo u oficio por entrevistados'].astype('category')\n",
        "datos['Prorgramas educativos para este cargo']=datos['Prorgramas educativos para este cargo'].astype('category')\n",
        "datos['OcupaciÃ³n CUOC']=datos['OcupaciÃ³n CUOC'].astype('category')\n",
        "datos['Competencia reportada con falencia']=datos['Competencia reportada con falencia'].astype('category')"
      ],
      "metadata": {
        "id": "zECIfBXWGcC8"
      },
      "execution_count": null,
      "outputs": []
    },
    {
      "cell_type": "code",
      "source": [
        "datos.info()"
      ],
      "metadata": {
        "colab": {
          "base_uri": "https://localhost:8080/"
        },
        "id": "jrEfrrlLGgu-",
        "outputId": "287828dd-ace1-44f5-f623-62770e203b12"
      },
      "execution_count": null,
      "outputs": [
        {
          "output_type": "stream",
          "name": "stdout",
          "text": [
            "<class 'pandas.core.frame.DataFrame'>\n",
            "Int64Index: 7545 entries, 18274 to 7528\n",
            "Data columns (total 7 columns):\n",
            " #   Column                                 Non-Null Count  Dtype   \n",
            "---  ------                                 --------------  -----   \n",
            " 0   Cargo u oficio por entrevistados       7545 non-null   category\n",
            " 1   OcupaciÃ³n CUOC                        7545 non-null   category\n",
            " 2   Prorgramas educativos para este cargo  7545 non-null   category\n",
            " 3   Nivel educativo                        7545 non-null   int64   \n",
            " 4   Competencia reportada con falencia     7545 non-null   category\n",
            " 5   Tipo de competencia                    7545 non-null   int64   \n",
            " 6   existe competencia educaciÃ³n          7545 non-null   int64   \n",
            "dtypes: category(4), int64(3)\n",
            "memory usage: 283.7 KB\n"
          ]
        }
      ]
    },
    {
      "cell_type": "code",
      "source": [
        "datos = pd.get_dummies(datos, columns=['Cargo u oficio por entrevistados','Prorgramas educativos para este cargo','OcupaciÃ³n CUOC','Competencia reportada con falencia'], drop_first=False)"
      ],
      "metadata": {
        "id": "Xfgu0gvPGjo7"
      },
      "execution_count": null,
      "outputs": []
    },
    {
      "cell_type": "markdown",
      "source": [
        "Se opta por balancear los datos debido al desnivel en la etiqueta"
      ],
      "metadata": {
        "id": "PDZERhAI5VeF"
      }
    },
    {
      "cell_type": "code",
      "source": [
        "from imblearn.over_sampling import SMOTE\n",
        "smote = SMOTE()\n",
        "X= datos.loc[:, datos.columns != 'existe competencia educaciÃ³n']\n",
        "y= datos['existe competencia educaciÃ³n']\n",
        "X, y = smote.fit_resample(X, y)\n",
        "\n",
        "datos = pd.concat([pd.DataFrame(X), pd.DataFrame(y)], axis=1)"
      ],
      "metadata": {
        "id": "gJsNbpw65JHd"
      },
      "execution_count": null,
      "outputs": []
    },
    {
      "cell_type": "code",
      "source": [
        "datos['existe competencia educaciÃ³n'].value_counts()"
      ],
      "metadata": {
        "colab": {
          "base_uri": "https://localhost:8080/"
        },
        "id": "Ycw-oBZO_YFa",
        "outputId": "360f7afd-8d48-4e6c-e200-f6c523b0b16b"
      },
      "execution_count": null,
      "outputs": [
        {
          "output_type": "execute_result",
          "data": {
            "text/plain": [
              "1    6704\n",
              "0    6704\n",
              "Name: existe competencia educaciÃ³n, dtype: int64"
            ]
          },
          "metadata": {},
          "execution_count": 15
        }
      ]
    },
    {
      "cell_type": "code",
      "source": [
        "#Definir variables de entrada y variable de salida\n",
        "xtrain = datos.loc[:, datos.columns != 'existe competencia educaciÃ³n']\n",
        "ytrain = datos['existe competencia educaciÃ³n']"
      ],
      "metadata": {
        "id": "DLHVf2DVGxUC"
      },
      "execution_count": null,
      "outputs": []
    },
    {
      "cell_type": "code",
      "source": [
        "#Normalización de las caracteristicas del conjunto de entrenamiento\n",
        "from sklearn.preprocessing import StandardScaler\n",
        "sc = StandardScaler()\n",
        "sc.fit(xtrain)\n",
        "xtrainN = sc.transform(xtrain)\n",
        "plt.hist(xtrainN[:,3])"
      ],
      "metadata": {
        "colab": {
          "base_uri": "https://localhost:8080/",
          "height": 375
        },
        "id": "KwG5Q4zZGy9P",
        "outputId": "af641248-1892-4a43-bcf9-aae962fa50b5"
      },
      "execution_count": null,
      "outputs": [
        {
          "output_type": "execute_result",
          "data": {
            "text/plain": [
              "(array([13386.,     0.,     0.,     0.,     0.,     0.,     0.,     0.,\n",
              "            0.,    22.]),\n",
              " array([-0.0405402 ,  2.43020096,  4.90094212,  7.37168328,  9.84242444,\n",
              "        12.31316561, 14.78390677, 17.25464793, 19.72538909, 22.19613025,\n",
              "        24.66687142]),\n",
              " <a list of 10 Patch objects>)"
            ]
          },
          "metadata": {},
          "execution_count": 17
        },
        {
          "output_type": "display_data",
          "data": {
            "text/plain": [
              "<Figure size 432x288 with 1 Axes>"
            ],
            "image/png": "[encoded data removed]"
          },
          "metadata": {
            "needs_background": "light"
          }
        }
      ]
    },
    {
      "cell_type": "code",
      "source": [
        "#Modelo de clasificación con redes neuronales\n",
        "from sklearn.neural_network import MLPClassifier\n",
        "X = xtrainN\n",
        "y = ytrain\n",
        "clf = MLPClassifier(solver='lbfgs', learning_rate='constant', alpha=0.05, learning_rate_init=0.01,\n",
        "                     hidden_layer_sizes=(10,10), random_state=0, activation=\"logistic\",max_iter=200000) #alpha, regularización, solver{‘lbfgs’, ‘sgd’, ‘adam’}, default=’adam’\n",
        "clf.fit(X,y)"
      ],
      "metadata": {
        "colab": {
          "base_uri": "https://localhost:8080/"
        },
        "id": "dOSgKVnTG1Yh",
        "outputId": "cdae7c36-309d-448c-d667-ceb2a6f5d9d8"
      },
      "execution_count": null,
      "outputs": [
        {
          "output_type": "execute_result",
          "data": {
            "text/plain": [
              "MLPClassifier(activation='logistic', alpha=0.05, hidden_layer_sizes=(10, 10),\n",
              "              learning_rate_init=0.01, max_iter=200000, random_state=0,\n",
              "              solver='lbfgs')"
            ]
          },
          "metadata": {},
          "execution_count": 18
        }
      ]
    },
    {
      "cell_type": "code",
      "source": [
        "#Metricas del clasificador\n",
        "from sklearn import metrics\n",
        "print (\"Train - MetricasClasificador: \\n\", metrics.classification_report\n",
        "(ytrain, clf.predict(xtrainN)))"
      ],
      "metadata": {
        "colab": {
          "base_uri": "https://localhost:8080/"
        },
        "id": "2s60RBhPG4Cj",
        "outputId": "aefc88cf-8559-40d6-ef93-98aec6e80adc"
      },
      "execution_count": null,
      "outputs": [
        {
          "output_type": "stream",
          "name": "stdout",
          "text": [
            "Train - MetricasClasificador: \n",
            "               precision    recall  f1-score   support\n",
            "\n",
            "           0       0.97      0.97      0.97      6704\n",
            "           1       0.97      0.97      0.97      6704\n",
            "\n",
            "    accuracy                           0.97     13408\n",
            "   macro avg       0.97      0.97      0.97     13408\n",
            "weighted avg       0.97      0.97      0.97     13408\n",
            "\n"
          ]
        }
      ]
    },
    {
      "cell_type": "code",
      "source": [
        "#Matriz de confusion\n",
        "from sklearn.metrics import plot_confusion_matrix\n",
        "plot_confusion_matrix(clf,xtrainN, ytrain)"
      ],
      "metadata": {
        "colab": {
          "base_uri": "https://localhost:8080/",
          "height": 352
        },
        "id": "mkZC07iCHTXx",
        "outputId": "b9be6c3e-9851-4bd7-c0aa-f3bf1b82ce89"
      },
      "execution_count": null,
      "outputs": [
        {
          "output_type": "stream",
          "name": "stderr",
          "text": [
            "/usr/local/lib/python3.7/dist-packages/sklearn/utils/deprecation.py:87: FutureWarning: Function plot_confusion_matrix is deprecated; Function `plot_confusion_matrix` is deprecated in 1.0 and will be removed in 1.2. Use one of the class methods: ConfusionMatrixDisplay.from_predictions or ConfusionMatrixDisplay.from_estimator.\n",
            "  warnings.warn(msg, category=FutureWarning)\n"
          ]
        },
        {
          "output_type": "execute_result",
          "data": {
            "text/plain": [
              "<sklearn.metrics._plot.confusion_matrix.ConfusionMatrixDisplay at 0x7ff658fe1f10>"
            ]
          },
          "metadata": {},
          "execution_count": 20
        },
        {
          "output_type": "display_data",
          "data": {
            "text/plain": [
              "<Figure size 432x288 with 2 Axes>"
            ],
            "image/png": "[encoded data removed]"
          },
          "metadata": {
            "needs_background": "light"
          }
        }
      ]
    },
    {
      "cell_type": "markdown",
      "source": [
        "#Mejor métrica\n",
        "En este caso seleccione la precisión, dado que es de suma importancia una correcta clasificación de los candidatos aspirantes a una compañia, se debe garantizar que cumplan los requerimientos necesarios para ofrecer un buen desempeño, en el caso de existir algún \"infiltrado\" pueden darse problemas de calidad, integridad o de productividad que lleven a problemas mayores dentro de la empresa. Por ejemplo, si el puesto es para un senior, de ninguna manera pueda admitirse un junior."
      ],
      "metadata": {
        "id": "dY3-6BjLumN_"
      }
    },
    {
      "cell_type": "markdown",
      "source": [
        "#Gridsearch\n",
        "\n",
        "Para el gridsearch probé muchas opciones por cada parámetro, las que estan comentadas son las que dejé para las pruebas finales, lo hice de esta forma debido a que cada ejecución con varias opciones en los parámetros se demoraba bastante. Hay algunos parámetros con opciones únicas, esto porque fueron la mejor opción dentro de las que aparecen ahí comentadas.*"
      ],
      "metadata": {
        "id": "tDjFLx89zHZR"
      }
    },
    {
      "cell_type": "code",
      "source": [
        "#GridSearch para hallar los mejores parametros de la red neuronal\n",
        "from sklearn.model_selection import GridSearchCV\n",
        "\n",
        "X = xtrainN\n",
        "y = ytrain\n",
        "\n",
        "mlp_gs = MLPClassifier(max_iter=10000)\n",
        "parameters= {\n",
        "    'hidden_layer_sizes': [(15,15,15),(10,10)],#(20,10),(10,10,10),(15,15),(10,),(20,),(10,10),(5,5,5,5)],\n",
        "    'activation': ['relu'],#,'logistic'],#'tanh','identity’,],\n",
        "    'solver': ['adam','lbfgs'],#sgd\n",
        "    'alpha': [0.5,0.01],#2,0.1],\n",
        "    'learning_rate': ['constant'],#'adaptive'],\n",
        "    'learning_rate_init':[1,0.5],#0.1,0.5,2] #10\n",
        "}\n",
        "\n",
        "clf = GridSearchCV(mlp_gs, parameters, refit = True, verbose =3,scoring=\"accuracy\",cv=3)\n",
        "clf.fit(X, y)"
      ],
      "metadata": {
        "colab": {
          "base_uri": "https://localhost:8080/"
        },
        "id": "JXBYeEkPHVoR",
        "outputId": "3660f92f-eedb-4783-f721-1e439dbb89b0"
      },
      "execution_count": null,
      "outputs": [
        {
          "output_type": "stream",
          "name": "stdout",
          "text": [
            "Fitting 3 folds for each of 16 candidates, totalling 48 fits\n",
            "[CV 1/3] END activation=relu, alpha=0.5, hidden_layer_sizes=(15, 15, 15), learning_rate=constant, learning_rate_init=1, solver=adam;, score=0.500 total time=   6.5s\n",
            "[CV 2/3] END activation=relu, alpha=0.5, hidden_layer_sizes=(15, 15, 15), learning_rate=constant, learning_rate_init=1, solver=adam;, score=0.500 total time=   7.6s\n",
            "[CV 3/3] END activation=relu, alpha=0.5, hidden_layer_sizes=(15, 15, 15), learning_rate=constant, learning_rate_init=1, solver=adam;, score=0.500 total time=   8.7s\n",
            "[CV 1/3] END activation=relu, alpha=0.5, hidden_layer_sizes=(15, 15, 15), learning_rate=constant, learning_rate_init=1, solver=lbfgs;, score=0.876 total time=  37.3s\n",
            "[CV 2/3] END activation=relu, alpha=0.5, hidden_layer_sizes=(15, 15, 15), learning_rate=constant, learning_rate_init=1, solver=lbfgs;, score=0.946 total time= 2.5min\n",
            "[CV 3/3] END activation=relu, alpha=0.5, hidden_layer_sizes=(15, 15, 15), learning_rate=constant, learning_rate_init=1, solver=lbfgs;, score=0.955 total time= 4.0min\n",
            "[CV 1/3] END activation=relu, alpha=0.5, hidden_layer_sizes=(15, 15, 15), learning_rate=constant, learning_rate_init=0.5, solver=adam;, score=0.755 total time=   2.1s\n",
            "[CV 2/3] END activation=relu, alpha=0.5, hidden_layer_sizes=(15, 15, 15), learning_rate=constant, learning_rate_init=0.5, solver=adam;, score=0.500 total time=   5.3s\n",
            "[CV 3/3] END activation=relu, alpha=0.5, hidden_layer_sizes=(15, 15, 15), learning_rate=constant, learning_rate_init=0.5, solver=adam;, score=0.500 total time=   3.7s\n",
            "[CV 1/3] END activation=relu, alpha=0.5, hidden_layer_sizes=(15, 15, 15), learning_rate=constant, learning_rate_init=0.5, solver=lbfgs;, score=0.876 total time=  46.6s\n",
            "[CV 2/3] END activation=relu, alpha=0.5, hidden_layer_sizes=(15, 15, 15), learning_rate=constant, learning_rate_init=0.5, solver=lbfgs;, score=0.944 total time= 4.1min\n",
            "[CV 3/3] END activation=relu, alpha=0.5, hidden_layer_sizes=(15, 15, 15), learning_rate=constant, learning_rate_init=0.5, solver=lbfgs;, score=0.953 total time= 2.9min\n",
            "[CV 1/3] END activation=relu, alpha=0.5, hidden_layer_sizes=(10, 10), learning_rate=constant, learning_rate_init=1, solver=adam;, score=0.500 total time=   2.5s\n",
            "[CV 2/3] END activation=relu, alpha=0.5, hidden_layer_sizes=(10, 10), learning_rate=constant, learning_rate_init=1, solver=adam;, score=0.500 total time=   3.1s\n",
            "[CV 3/3] END activation=relu, alpha=0.5, hidden_layer_sizes=(10, 10), learning_rate=constant, learning_rate_init=1, solver=adam;, score=0.500 total time=   3.6s\n",
            "[CV 1/3] END activation=relu, alpha=0.5, hidden_layer_sizes=(10, 10), learning_rate=constant, learning_rate_init=1, solver=lbfgs;, score=0.874 total time=  28.4s\n",
            "[CV 2/3] END activation=relu, alpha=0.5, hidden_layer_sizes=(10, 10), learning_rate=constant, learning_rate_init=1, solver=lbfgs;, score=0.939 total time= 1.4min\n",
            "[CV 3/3] END activation=relu, alpha=0.5, hidden_layer_sizes=(10, 10), learning_rate=constant, learning_rate_init=1, solver=lbfgs;, score=0.945 total time= 2.0min\n",
            "[CV 1/3] END activation=relu, alpha=0.5, hidden_layer_sizes=(10, 10), learning_rate=constant, learning_rate_init=0.5, solver=adam;, score=0.500 total time=   4.3s\n",
            "[CV 2/3] END activation=relu, alpha=0.5, hidden_layer_sizes=(10, 10), learning_rate=constant, learning_rate_init=0.5, solver=adam;, score=0.842 total time=   1.7s\n",
            "[CV 3/3] END activation=relu, alpha=0.5, hidden_layer_sizes=(10, 10), learning_rate=constant, learning_rate_init=0.5, solver=adam;, score=0.500 total time=   3.0s\n",
            "[CV 1/3] END activation=relu, alpha=0.5, hidden_layer_sizes=(10, 10), learning_rate=constant, learning_rate_init=0.5, solver=lbfgs;, score=0.877 total time=  29.1s\n",
            "[CV 2/3] END activation=relu, alpha=0.5, hidden_layer_sizes=(10, 10), learning_rate=constant, learning_rate_init=0.5, solver=lbfgs;, score=0.935 total time= 3.2min\n",
            "[CV 3/3] END activation=relu, alpha=0.5, hidden_layer_sizes=(10, 10), learning_rate=constant, learning_rate_init=0.5, solver=lbfgs;, score=0.944 total time= 2.4min\n",
            "[CV 1/3] END activation=relu, alpha=0.01, hidden_layer_sizes=(15, 15, 15), learning_rate=constant, learning_rate_init=1, solver=adam;, score=0.500 total time=  17.3s\n",
            "[CV 2/3] END activation=relu, alpha=0.01, hidden_layer_sizes=(15, 15, 15), learning_rate=constant, learning_rate_init=1, solver=adam;, score=0.500 total time=  13.3s\n",
            "[CV 3/3] END activation=relu, alpha=0.01, hidden_layer_sizes=(15, 15, 15), learning_rate=constant, learning_rate_init=1, solver=adam;, score=0.688 total time=   2.6s\n",
            "[CV 1/3] END activation=relu, alpha=0.01, hidden_layer_sizes=(15, 15, 15), learning_rate=constant, learning_rate_init=1, solver=lbfgs;, score=0.877 total time=   9.2s\n",
            "[CV 2/3] END activation=relu, alpha=0.01, hidden_layer_sizes=(15, 15, 15), learning_rate=constant, learning_rate_init=1, solver=lbfgs;, score=0.948 total time=  35.2s\n",
            "[CV 3/3] END activation=relu, alpha=0.01, hidden_layer_sizes=(15, 15, 15), learning_rate=constant, learning_rate_init=1, solver=lbfgs;, score=0.956 total time=  34.5s\n",
            "[CV 1/3] END activation=relu, alpha=0.01, hidden_layer_sizes=(15, 15, 15), learning_rate=constant, learning_rate_init=0.5, solver=adam;, score=0.500 total time=   6.6s\n",
            "[CV 2/3] END activation=relu, alpha=0.01, hidden_layer_sizes=(15, 15, 15), learning_rate=constant, learning_rate_init=0.5, solver=adam;, score=0.500 total time=   9.5s\n",
            "[CV 3/3] END activation=relu, alpha=0.01, hidden_layer_sizes=(15, 15, 15), learning_rate=constant, learning_rate_init=0.5, solver=adam;, score=0.928 total time=   4.6s\n",
            "[CV 1/3] END activation=relu, alpha=0.01, hidden_layer_sizes=(15, 15, 15), learning_rate=constant, learning_rate_init=0.5, solver=lbfgs;, score=0.875 total time=   6.4s\n",
            "[CV 2/3] END activation=relu, alpha=0.01, hidden_layer_sizes=(15, 15, 15), learning_rate=constant, learning_rate_init=0.5, solver=lbfgs;, score=0.947 total time=  25.2s\n",
            "[CV 3/3] END activation=relu, alpha=0.01, hidden_layer_sizes=(15, 15, 15), learning_rate=constant, learning_rate_init=0.5, solver=lbfgs;, score=0.955 total time=  32.6s\n",
            "[CV 1/3] END activation=relu, alpha=0.01, hidden_layer_sizes=(10, 10), learning_rate=constant, learning_rate_init=1, solver=adam;, score=0.500 total time=   5.0s\n",
            "[CV 2/3] END activation=relu, alpha=0.01, hidden_layer_sizes=(10, 10), learning_rate=constant, learning_rate_init=1, solver=adam;, score=0.500 total time=   5.1s\n",
            "[CV 3/3] END activation=relu, alpha=0.01, hidden_layer_sizes=(10, 10), learning_rate=constant, learning_rate_init=1, solver=adam;, score=0.714 total time=   2.8s\n",
            "[CV 1/3] END activation=relu, alpha=0.01, hidden_layer_sizes=(10, 10), learning_rate=constant, learning_rate_init=1, solver=lbfgs;, score=0.872 total time=  12.0s\n",
            "[CV 2/3] END activation=relu, alpha=0.01, hidden_layer_sizes=(10, 10), learning_rate=constant, learning_rate_init=1, solver=lbfgs;, score=0.943 total time= 1.6min\n",
            "[CV 3/3] END activation=relu, alpha=0.01, hidden_layer_sizes=(10, 10), learning_rate=constant, learning_rate_init=1, solver=lbfgs;, score=0.953 total time= 2.9min\n",
            "[CV 1/3] END activation=relu, alpha=0.01, hidden_layer_sizes=(10, 10), learning_rate=constant, learning_rate_init=0.5, solver=adam;, score=0.500 total time=   3.8s\n",
            "[CV 2/3] END activation=relu, alpha=0.01, hidden_layer_sizes=(10, 10), learning_rate=constant, learning_rate_init=0.5, solver=adam;, score=0.500 total time=   4.8s\n",
            "[CV 3/3] END activation=relu, alpha=0.01, hidden_layer_sizes=(10, 10), learning_rate=constant, learning_rate_init=0.5, solver=adam;, score=0.500 total time=   3.7s\n",
            "[CV 1/3] END activation=relu, alpha=0.01, hidden_layer_sizes=(10, 10), learning_rate=constant, learning_rate_init=0.5, solver=lbfgs;, score=0.871 total time=  16.0s\n",
            "[CV 2/3] END activation=relu, alpha=0.01, hidden_layer_sizes=(10, 10), learning_rate=constant, learning_rate_init=0.5, solver=lbfgs;, score=0.947 total time= 1.5min\n",
            "[CV 3/3] END activation=relu, alpha=0.01, hidden_layer_sizes=(10, 10), learning_rate=constant, learning_rate_init=0.5, solver=lbfgs;, score=0.952 total time= 3.7min\n"
          ]
        },
        {
          "output_type": "execute_result",
          "data": {
            "text/plain": [
              "GridSearchCV(cv=3, estimator=MLPClassifier(max_iter=10000),\n",
              "             param_grid={'activation': ['relu'], 'alpha': [0.5, 0.01],\n",
              "                         'hidden_layer_sizes': [(15, 15, 15), (10, 10)],\n",
              "                         'learning_rate': ['constant'],\n",
              "                         'learning_rate_init': [1, 0.5],\n",
              "                         'solver': ['adam', 'lbfgs']},\n",
              "             scoring='accuracy', verbose=3)"
            ]
          },
          "metadata": {},
          "execution_count": 21
        }
      ]
    },
    {
      "cell_type": "code",
      "source": [
        "#Imprimir los mejores parámetros\n",
        "print(clf.best_params_)"
      ],
      "metadata": {
        "colab": {
          "base_uri": "https://localhost:8080/"
        },
        "id": "C88B0OpgKhTK",
        "outputId": "ac10e25b-fcfb-4c78-b974-7a3aa7e7ba9a"
      },
      "execution_count": null,
      "outputs": [
        {
          "output_type": "stream",
          "name": "stdout",
          "text": [
            "{'activation': 'relu', 'alpha': 0.01, 'hidden_layer_sizes': (15, 15, 15), 'learning_rate': 'constant', 'learning_rate_init': 1, 'solver': 'lbfgs'}\n"
          ]
        }
      ]
    }
  ]
}